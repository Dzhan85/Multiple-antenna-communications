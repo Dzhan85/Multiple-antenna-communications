{
 "cells": [
  {
   "cell_type": "markdown",
   "metadata": {
    "collapsed": true,
    "pycharm": {
     "name": "#%% md\n"
    }
   },
   "source": [
    "## Multipath propagation\n",
    "[Video Lecture.](https://www.youtube.com/watch?v=sNoBuFUfmGQ&list=PLTv48TzNRhaKb_D7SF3d1eNoqjrTJg34C&index=3)\n",
    "\n",
    "We consider the scenario when the line-of-sight (LoS) path between the\n",
    "transmitter and the receiver is blocked. In those cases, there are still\n",
    "other propagation paths to model. There is the phenomena of scattering\n",
    "where a signal from transmitter reaches an object, and then it is spreading\n",
    "out towards the receiver. There are often many such objects in the same\n",
    "environment, each of them will have a propagation path that is slightly\n",
    "different. The received signal will be the combination from $L$ paths.\n",
    "Channel with $L$ propagation paths:\n",
    "$$g=\\sum_{i=1}^{L}{\\sqrt{\\alpha_i}e^{-j2\\pi\\frac{d_i-d}{\\lambda}}}$$\n",
    "\n",
    "Where $\\alpha_i$ is the channel gain of the $i$ path, $\\lambda$ is the\n",
    "wavelength, $d_i, d$ is the distance of the i-path and reference\n",
    "distance, respectively,  $-j2\\pi\\frac{d_i-d}{\\lambda}$ describes\n",
    "the time delay or phase shift.\n",
    "\n",
    "Let's consider the following example:\n",
    "- $\\alpha_i=\\frac{1}{L}$\n",
    "- $\\theta_i=2\\pi\\frac{d_i-d}{\\lambda}\\sim U(0,2\\pi)$\n",
    "- Channel magnitude:\n",
    "$|g|=\\left|\\sum_{i=1}^{L}{\\sqrt{\\frac{1}{L}}e^{-j\\theta_i}}\\right|$\n",
    "- Rayleigh fading with the approximation of $g\\sim CN(0,1)$"
   ]
  },
  {
   "cell_type": "code",
   "execution_count": 48,
   "outputs": [
    {
     "data": {
      "text/plain": "Text(1.9, 0.8, 'Rayleigh: $g \\\\sim CN(0,1)$')"
     },
     "execution_count": 48,
     "metadata": {},
     "output_type": "execute_result"
    },
    {
     "data": {
      "text/plain": "<Figure size 432x288 with 1 Axes>",
      "image/png": "[encoded data removed]"
     },
     "metadata": {
      "needs_background": "light"
     },
     "output_type": "display_data"
    }
   ],
   "source": [
    "from numpy import pi, exp, sqrt, abs\n",
    "import numpy as np\n",
    "import matplotlib.pyplot as plt\n",
    "from numpy.random import normal\n",
    "\n",
    "samples = 10000\n",
    "l_values = [2, 8]\n",
    "g_all = np.zeros((len(l_values), samples))\n",
    "rayleigh = abs(normal(loc=0, scale=sqrt(2)/2, size=(samples, 2)).view(np.complex128) )\n",
    "for j in range(samples):\n",
    "    for l_index, l_value in enumerate(l_values):\n",
    "        g = 0\n",
    "        for i in range(l_value):\n",
    "            g = g + sqrt(1/l_value)*exp(-1j*np.random.uniform(0,2*pi))\n",
    "        g_all[l_index,j] = abs(g)\n",
    "values, base = np.histogram(g_all[0,:], bins=500)\n",
    "values2, base2 = np.histogram(g_all[1,:], bins=500)\n",
    "values3, base3 = np.histogram(rayleigh, bins=500)\n",
    "#evaluate the cumulative\n",
    "cumulative = np.cumsum(values)/samples\n",
    "cumulative2 = np.cumsum(values2)/samples\n",
    "cumulative3 = np.cumsum(values3)/samples\n",
    "# plot the cumulative function\n",
    "plt.plot(base[:-1], cumulative, 'k--',\n",
    "         base2[:-1], cumulative2, 'r-.',\n",
    "         base3[:-1], cumulative3, 'b')\n",
    "plt.legend(['L = 2', 'L = 8', 'Rayleigh fading'], loc='lower right')\n",
    "plt.xlabel(r'$|g|$')\n",
    "plt.ylabel('Cumulative distribution function')\n",
    "plt.xlim([0,3])\n",
    "plt.ylim([0,1])\n",
    "plt.annotate(r'Rayleigh: $g \\sim CN(0,1)$', xy=(1.8,0.97), xytext=(1.9,0.8),\n",
    "             arrowprops=dict(width=1, facecolor='black'))"
   ],
   "metadata": {
    "collapsed": false,
    "pycharm": {
     "name": "#%%\n"
    }
   }
  },
  {
   "cell_type": "markdown",
   "source": [
    "## Rayleigh fading\n",
    "\n",
    "From the figure, with L = 8, there is a very good approximation of the\n",
    "real propagation model as the Rayleigh fading channel model. The motivation\n",
    "behind this model can be achieved using the Central limit theorem.\n",
    "\n",
    "$\\textbf{Central Limit Theorem}$\n",
    "\n",
    "Let $X_1,\\dots,X_L$ be a sequence of $L$ real-valued independent and\n",
    "identically distributed random variables with zero mean and variance\n",
    "$\\sigma^2$. As $L\\to \\infty$,\n",
    "$$\\frac{1}{\\sqrt{L\\sigma^2}}\\sum_{i=1}^{L}{X_i}$$\n",
    "converges to a standard Gaussian distribution $N(0,1)$.\n",
    "\n",
    "Let's now consider a rich propagation:\n",
    "- Very large number of paths: Gaussian distribution\n",
    "- Channel gain: $g\\sim CN(0,\\beta)$\n",
    "- It's called Rayleigh fading since $|g|\\sim Rayleigh(\\sqrt{\\beta/2})$\n",
    "\n"
   ],
   "metadata": {
    "collapsed": false,
    "pycharm": {
     "name": "#%% md\n"
    }
   }
  }
 ],
 "metadata": {
  "kernelspec": {
   "name": "pycharm-3062606e",
   "language": "python",
   "display_name": "PyCharm (Multiple-antenna-communications)"
  },
  "language_info": {
   "codemirror_mode": {
    "name": "ipython",
    "version": 2
   },
   "file_extension": ".py",
   "mimetype": "text/x-python",
   "name": "python",
   "nbconvert_exporter": "python",
   "pygments_lexer": "ipython2",
   "version": "2.7.6"
  }
 },
 "nbformat": 4,
 "nbformat_minor": 0
}