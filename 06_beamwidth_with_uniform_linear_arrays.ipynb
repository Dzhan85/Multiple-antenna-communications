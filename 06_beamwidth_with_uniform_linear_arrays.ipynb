{
 "cells": [
  {
   "cell_type": "markdown",
   "metadata": {
    "collapsed": true,
    "pycharm": {
     "name": "#%% md\n"
    }
   },
   "source": [
    "# Uniform Linear Array (ULA)\n",
    "Let consider a SIMO system with one transmit antenna, and multiple receive\n",
    "antennas with Uniform Linear Array shape. The receive antennas are all\n",
    "located on a line and have the same spacing between antennas $\\Delta$, and\n",
    "the angle of arrival of the signal is $\\varphi$.\n",
    "\n",
    "<img src= 'images/06_uniform_linear_array.png' width=500/>\n",
    "\n",
    "![Alt text](images/06_uniform_linear_array.png?raw=true \"Title\")"
   ]
  },
  {
   "cell_type": "code",
   "execution_count": null,
   "outputs": [],
   "source": [],
   "metadata": {
    "collapsed": false,
    "pycharm": {
     "name": "#%%\n"
    }
   }
  }
 ],
 "metadata": {
  "kernelspec": {
   "name": "pycharm-3062606e",
   "language": "python",
   "display_name": "PyCharm (Multiple-antenna-communications)"
  },
  "language_info": {
   "codemirror_mode": {
    "name": "ipython",
    "version": 2
   },
   "file_extension": ".py",
   "mimetype": "text/x-python",
   "name": "python",
   "nbconvert_exporter": "python",
   "pygments_lexer": "ipython2",
   "version": "2.7.6"
  }
 },
 "nbformat": 4,
 "nbformat_minor": 0
}